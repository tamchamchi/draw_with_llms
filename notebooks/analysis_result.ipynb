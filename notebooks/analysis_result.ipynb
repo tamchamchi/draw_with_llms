{
 "cells": [
  {
   "cell_type": "code",
   "execution_count": 1,
   "id": "11dc1c86",
   "metadata": {},
   "outputs": [],
   "source": [
    "import pandas as pd\n",
    "import json\n",
    "import os"
   ]
  },
  {
   "cell_type": "code",
   "execution_count": 2,
   "id": "7c16d53d",
   "metadata": {},
   "outputs": [
    {
     "data": {
      "text/html": [
       "<div>\n",
       "<style scoped>\n",
       "    .dataframe tbody tr th:only-of-type {\n",
       "        vertical-align: middle;\n",
       "    }\n",
       "\n",
       "    .dataframe tbody tr th {\n",
       "        vertical-align: top;\n",
       "    }\n",
       "\n",
       "    .dataframe thead th {\n",
       "        text-align: right;\n",
       "    }\n",
       "</style>\n",
       "<table border=\"1\" class=\"dataframe\">\n",
       "  <thead>\n",
       "    <tr style=\"text-align: right;\">\n",
       "      <th></th>\n",
       "      <th>id</th>\n",
       "      <th>description</th>\n",
       "      <th>category</th>\n",
       "    </tr>\n",
       "  </thead>\n",
       "  <tbody>\n",
       "    <tr>\n",
       "      <th>0</th>\n",
       "      <td>02d892</td>\n",
       "      <td>a purple forest at dusk</td>\n",
       "      <td>landscapes</td>\n",
       "    </tr>\n",
       "    <tr>\n",
       "      <th>1</th>\n",
       "      <td>0dcd2e</td>\n",
       "      <td>gray wool coat with a faux fur collar</td>\n",
       "      <td>fashion</td>\n",
       "    </tr>\n",
       "    <tr>\n",
       "      <th>2</th>\n",
       "      <td>1e9ac1</td>\n",
       "      <td>a lighthouse overlooking the ocean</td>\n",
       "      <td>landscapes</td>\n",
       "    </tr>\n",
       "    <tr>\n",
       "      <th>3</th>\n",
       "      <td>2b25db</td>\n",
       "      <td>burgundy corduroy pants with patch pockets and...</td>\n",
       "      <td>fashion</td>\n",
       "    </tr>\n",
       "    <tr>\n",
       "      <th>4</th>\n",
       "      <td>4e6a54</td>\n",
       "      <td>orange corduroy overalls</td>\n",
       "      <td>fashion</td>\n",
       "    </tr>\n",
       "  </tbody>\n",
       "</table>\n",
       "</div>"
      ],
      "text/plain": [
       "       id                                        description    category\n",
       "0  02d892                            a purple forest at dusk  landscapes\n",
       "1  0dcd2e              gray wool coat with a faux fur collar     fashion\n",
       "2  1e9ac1                 a lighthouse overlooking the ocean  landscapes\n",
       "3  2b25db  burgundy corduroy pants with patch pockets and...     fashion\n",
       "4  4e6a54                           orange corduroy overalls     fashion"
      ]
     },
     "execution_count": 2,
     "metadata": {},
     "output_type": "execute_result"
    }
   ],
   "source": [
    "train_path = r\"/home/anhndt/draw-with-llm/data/raw/drawing-with-llms/train.csv\"\n",
    "train_df = pd.read_csv(train_path)\n",
    "train_df.head()"
   ]
  },
  {
   "cell_type": "code",
   "execution_count": 3,
   "id": "253e0999",
   "metadata": {},
   "outputs": [
    {
     "data": {
      "text/plain": [
       "category\n",
       "landscapes    5\n",
       "fashion       5\n",
       "abstract      5\n",
       "Name: count, dtype: int64"
      ]
     },
     "execution_count": 3,
     "metadata": {},
     "output_type": "execute_result"
    }
   ],
   "source": [
    "train_df['category'].value_counts()"
   ]
  },
  {
   "cell_type": "code",
   "execution_count": 4,
   "id": "1e4f0e83",
   "metadata": {},
   "outputs": [],
   "source": [
    "version1_path = r\"/home/anhndt/draw-with-llm/data/results/score/json/version_1.json\"\n",
    "version12_path = r\"/home/anhndt/draw-with-llm/data/results/score/json/version_12.json\"\n",
    "\n",
    "version_1 = pd.read_json(version1_path)\n",
    "version_12 = pd.read_json(version12_path)"
   ]
  },
  {
   "cell_type": "code",
   "execution_count": 5,
   "id": "b223aa82",
   "metadata": {},
   "outputs": [
    {
     "data": {
      "text/html": [
       "<div>\n",
       "<style scoped>\n",
       "    .dataframe tbody tr th:only-of-type {\n",
       "        vertical-align: middle;\n",
       "    }\n",
       "\n",
       "    .dataframe tbody tr th {\n",
       "        vertical-align: top;\n",
       "    }\n",
       "\n",
       "    .dataframe thead th {\n",
       "        text-align: right;\n",
       "    }\n",
       "</style>\n",
       "<table border=\"1\" class=\"dataframe\">\n",
       "  <thead>\n",
       "    <tr style=\"text-align: right;\">\n",
       "      <th></th>\n",
       "      <th>total_score</th>\n",
       "      <th>vqa_score</th>\n",
       "      <th>aesthetic_score</th>\n",
       "      <th>ocr_score</th>\n",
       "      <th>clip_similarity</th>\n",
       "    </tr>\n",
       "    <tr>\n",
       "      <th>category</th>\n",
       "      <th></th>\n",
       "      <th></th>\n",
       "      <th></th>\n",
       "      <th></th>\n",
       "      <th></th>\n",
       "    </tr>\n",
       "  </thead>\n",
       "  <tbody>\n",
       "    <tr>\n",
       "      <th>abstract</th>\n",
       "      <td>0.568305</td>\n",
       "      <td>0.632216</td>\n",
       "      <td>0.429196</td>\n",
       "      <td>1.0</td>\n",
       "      <td>58.37500</td>\n",
       "    </tr>\n",
       "    <tr>\n",
       "      <th>fashion</th>\n",
       "      <td>0.622620</td>\n",
       "      <td>0.705223</td>\n",
       "      <td>0.442444</td>\n",
       "      <td>1.0</td>\n",
       "      <td>52.48125</td>\n",
       "    </tr>\n",
       "    <tr>\n",
       "      <th>landscapes</th>\n",
       "      <td>0.693423</td>\n",
       "      <td>0.788415</td>\n",
       "      <td>0.489638</td>\n",
       "      <td>1.0</td>\n",
       "      <td>59.30625</td>\n",
       "    </tr>\n",
       "  </tbody>\n",
       "</table>\n",
       "</div>"
      ],
      "text/plain": [
       "            total_score  vqa_score  aesthetic_score  ocr_score  \\\n",
       "category                                                         \n",
       "abstract       0.568305   0.632216         0.429196        1.0   \n",
       "fashion        0.622620   0.705223         0.442444        1.0   \n",
       "landscapes     0.693423   0.788415         0.489638        1.0   \n",
       "\n",
       "            clip_similarity  \n",
       "category                     \n",
       "abstract           58.37500  \n",
       "fashion            52.48125  \n",
       "landscapes         59.30625  "
      ]
     },
     "execution_count": 5,
     "metadata": {},
     "output_type": "execute_result"
    }
   ],
   "source": [
    "version_1 = pd.merge(version_1, train_df, how=\"inner\", left_on=\"id_desc\", right_on=\"id\")\n",
    "version_1.groupby('category').agg(\n",
    "    {\n",
    "        \"total_score\": \"mean\",\n",
    "        \"vqa_score\": \"mean\",\n",
    "        \"aesthetic_score\": \"mean\",\n",
    "        \"ocr_score\": \"mean\",\n",
    "        \"clip_similarity\": \"mean\"\n",
    "    }\n",
    ")"
   ]
  },
  {
   "cell_type": "code",
   "execution_count": 6,
   "id": "0f14e9fe",
   "metadata": {},
   "outputs": [
    {
     "data": {
      "text/html": [
       "<div>\n",
       "<style scoped>\n",
       "    .dataframe tbody tr th:only-of-type {\n",
       "        vertical-align: middle;\n",
       "    }\n",
       "\n",
       "    .dataframe tbody tr th {\n",
       "        vertical-align: top;\n",
       "    }\n",
       "\n",
       "    .dataframe thead th {\n",
       "        text-align: right;\n",
       "    }\n",
       "</style>\n",
       "<table border=\"1\" class=\"dataframe\">\n",
       "  <thead>\n",
       "    <tr style=\"text-align: right;\">\n",
       "      <th></th>\n",
       "      <th>total_score</th>\n",
       "      <th>vqa_score</th>\n",
       "      <th>aesthetic_score</th>\n",
       "      <th>ocr_score</th>\n",
       "      <th>clip_similarity</th>\n",
       "    </tr>\n",
       "    <tr>\n",
       "      <th>category</th>\n",
       "      <th></th>\n",
       "      <th></th>\n",
       "      <th></th>\n",
       "      <th></th>\n",
       "      <th></th>\n",
       "    </tr>\n",
       "  </thead>\n",
       "  <tbody>\n",
       "    <tr>\n",
       "      <th>abstract</th>\n",
       "      <td>0.628595</td>\n",
       "      <td>0.729447</td>\n",
       "      <td>0.424619</td>\n",
       "      <td>1.0</td>\n",
       "      <td>57.693750</td>\n",
       "    </tr>\n",
       "    <tr>\n",
       "      <th>fashion</th>\n",
       "      <td>0.710411</td>\n",
       "      <td>0.826800</td>\n",
       "      <td>0.456894</td>\n",
       "      <td>1.0</td>\n",
       "      <td>47.437500</td>\n",
       "    </tr>\n",
       "    <tr>\n",
       "      <th>landscapes</th>\n",
       "      <td>0.745337</td>\n",
       "      <td>0.852634</td>\n",
       "      <td>0.500598</td>\n",
       "      <td>1.0</td>\n",
       "      <td>52.915625</td>\n",
       "    </tr>\n",
       "  </tbody>\n",
       "</table>\n",
       "</div>"
      ],
      "text/plain": [
       "            total_score  vqa_score  aesthetic_score  ocr_score  \\\n",
       "category                                                         \n",
       "abstract       0.628595   0.729447         0.424619        1.0   \n",
       "fashion        0.710411   0.826800         0.456894        1.0   \n",
       "landscapes     0.745337   0.852634         0.500598        1.0   \n",
       "\n",
       "            clip_similarity  \n",
       "category                     \n",
       "abstract          57.693750  \n",
       "fashion           47.437500  \n",
       "landscapes        52.915625  "
      ]
     },
     "execution_count": 6,
     "metadata": {},
     "output_type": "execute_result"
    }
   ],
   "source": [
    "version_12 = pd.merge(version_12, train_df, how=\"inner\", left_on=\"id_desc\", right_on=\"id\")\n",
    "version_12.groupby('category').agg(\n",
    "    {\n",
    "        \"total_score\": \"mean\",\n",
    "        \"vqa_score\": \"mean\",\n",
    "        \"aesthetic_score\": \"mean\",\n",
    "        \"ocr_score\": \"mean\",\n",
    "        \"clip_similarity\": \"mean\"\n",
    "    }\n",
    ")"
   ]
  },
  {
   "cell_type": "code",
   "execution_count": 7,
   "id": "8152e7e3",
   "metadata": {},
   "outputs": [],
   "source": [
    "score_path = r\"/home/anhndt/draw-with-llm/data/results/score/json\""
   ]
  },
  {
   "cell_type": "code",
   "execution_count": 8,
   "id": "7472c136",
   "metadata": {},
   "outputs": [],
   "source": [
    "import os\n",
    "import pandas as pd\n",
    "\n",
    "output_file = r'/home/anhndt/draw-with-llm/report/mean_scores_output.txt'\n",
    "\n",
    "with open(output_file, 'w', encoding='utf-8') as f_out:\n",
    "    for file in os.listdir(score_path):\n",
    "        if file.endswith(\".json\"):\n",
    "            file_path = os.path.join(score_path, file)\n",
    "            version = pd.read_json(file_path)\n",
    "\n",
    "            f_out.write(f\"\\n--- {file} ---\\n\")\n",
    "            merge_df = pd.merge(version, train_df, how=\"inner\", left_on=\"id_desc\", right_on=\"id\")\n",
    "            mean_df = merge_df.groupby('category').agg({\n",
    "                \"total_score\": \"mean\",\n",
    "                \"vqa_score\": \"mean\",\n",
    "                \"aesthetic_score\": \"mean\",\n",
    "                \"ocr_score\": \"mean\",\n",
    "                \"clip_similarity\": \"mean\"\n",
    "            })\n",
    "\n",
    "            # Ghi DataFrame vào file dưới dạng text\n",
    "            f_out.write(mean_df.to_string())\n",
    "            f_out.write('\\n' + '='*80 + '\\n')\n"
   ]
  },
  {
   "cell_type": "code",
   "execution_count": null,
   "id": "5f1eeeed",
   "metadata": {},
   "outputs": [],
   "source": []
  }
 ],
 "metadata": {
  "kernelspec": {
   "display_name": "draw-with-llm",
   "language": "python",
   "name": "python3"
  },
  "language_info": {
   "codemirror_mode": {
    "name": "ipython",
    "version": 3
   },
   "file_extension": ".py",
   "mimetype": "text/x-python",
   "name": "python",
   "nbconvert_exporter": "python",
   "pygments_lexer": "ipython3",
   "version": "3.10.12"
  }
 },
 "nbformat": 4,
 "nbformat_minor": 5
}
