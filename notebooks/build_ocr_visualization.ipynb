{
 "cells": [
  {
   "cell_type": "code",
   "execution_count": 1,
   "id": "a91fb515",
   "metadata": {},
   "outputs": [
    {
     "name": "stderr",
     "output_type": "stream",
     "text": [
      "/home/anhndt/.conda/envs/draw-with-llm/lib/python3.10/site-packages/tqdm/auto.py:21: TqdmWarning: IProgress not found. Please update jupyter and ipywidgets. See https://ipywidgets.readthedocs.io/en/stable/user_install.html\n",
      "  from .autonotebook import tqdm as notebook_tqdm\n"
     ]
    }
   ],
   "source": [
    "\n",
    "import PIL.Image\n",
    "import torch\n",
    "from diffusers import DDIMScheduler, StableDiffusionPipeline\n",
    "\n",
    "\n",
    "class StableDiffusionV2:\n",
    "    def __init__(self):\n",
    "        self.device = torch.device(\"cuda\" if torch.cuda.is_available() else \"cpu\")\n",
    "        self.model_path = \"stabilityai/stable-diffusion-2-1\"\n",
    "        self.scheduler = DDIMScheduler.from_pretrained(\n",
    "            self.model_path, subfolder=\"scheduler\"\n",
    "        )\n",
    "        self.pipe = StableDiffusionPipeline.from_pretrained(\n",
    "            self.model_path,\n",
    "            scheduler=self.scheduler,\n",
    "            torch_dtype=torch.float16,\n",
    "            variant=\"fp16\",\n",
    "        ).to(self.device)\n",
    "\n",
    "    def generate(\n",
    "        self,\n",
    "        prompt: str,\n",
    "        height: int = 512,\n",
    "        width: int = 512,\n",
    "        negative_prompt: str = \"\",\n",
    "        num_inference_steps: int = 20,\n",
    "        guidance_scale: float = 10,\n",
    "        seed: int = 42,\n",
    "    ) -> PIL.Image.Image:\n",
    "        \"\"\"Generates an image based on the given prompt using Stable Diffusion v2.\n",
    "\n",
    "        Parameters\n",
    "        ----------\n",
    "        prompt : str\n",
    "             The text prompt to generate an image from.\n",
    "        height : int, optional\n",
    "             Height of the generated image in pixels (default is 512).\n",
    "        width : int, optional\n",
    "             Width of the generated image in pixels (default is 512).\n",
    "        negative_prompt : str, optional\n",
    "             The text prompt to avoid in the generated image.\n",
    "        num_inference_steps : int, optional\n",
    "             The number of denoising steps (default is 20).\n",
    "        guidance_scale : float, optional\n",
    "             The scale for classifier-free guidance (default is 10).\n",
    "        seed : int, optional\n",
    "             The seed for random generation to ensure reproducibility (default is None, which results in random generation).\n",
    "\n",
    "        Returns\n",
    "        -------\n",
    "        PIL.Image.Image\n",
    "             The generated image.\n",
    "        \"\"\"\n",
    "        generator = torch.Generator(\"cuda\")\n",
    "        if seed is not None:\n",
    "            generator.manual_seed(seed)\n",
    "\n",
    "        with torch.autocast(\"cuda\"):\n",
    "            image = self.pipe(\n",
    "                prompt=prompt,\n",
    "                negative_prompt=negative_prompt,\n",
    "                num_inference_steps=num_inference_steps,\n",
    "                guidance_scale=guidance_scale,\n",
    "                width=width,\n",
    "                height=height,\n",
    "                generator=generator,\n",
    "            ).images[0]\n",
    "\n",
    "        return image\n"
   ]
  },
  {
   "cell_type": "code",
   "execution_count": 2,
   "id": "9a67ed39",
   "metadata": {},
   "outputs": [
    {
     "name": "stderr",
     "output_type": "stream",
     "text": [
      "Loading pipeline components...: 100%|██████████| 6/6 [00:00<00:00,  7.51it/s]\n"
     ]
    }
   ],
   "source": [
    "model = StableDiffusionV2()"
   ]
  },
  {
   "cell_type": "code",
   "execution_count": null,
   "id": "dd37b627",
   "metadata": {},
   "outputs": [],
   "source": []
  }
 ],
 "metadata": {
  "kernelspec": {
   "display_name": "draw-with-llm",
   "language": "python",
   "name": "python3"
  },
  "language_info": {
   "codemirror_mode": {
    "name": "ipython",
    "version": 3
   },
   "file_extension": ".py",
   "mimetype": "text/x-python",
   "name": "python",
   "nbconvert_exporter": "python",
   "pygments_lexer": "ipython3",
   "version": "3.10.12"
  }
 },
 "nbformat": 4,
 "nbformat_minor": 5
}
